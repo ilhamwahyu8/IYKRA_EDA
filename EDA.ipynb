{
  "nbformat": 4,
  "nbformat_minor": 0,
  "metadata": {
    "colab": {
      "name": "EDA.ipynb",
      "provenance": [],
      "collapsed_sections": []
    },
    "kernelspec": {
      "name": "python3",
      "display_name": "Python 3"
    }
  },
  "cells": [
    {
      "cell_type": "code",
      "metadata": {
        "id": "4gsjpr6gEZvW"
      },
      "source": [
        "import pandas as pd\r\n",
        "import numpy as np\r\n",
        "import seaborn as sns\r\n",
        "import matplotlib.pyplot as plt\r\n",
        "from scipy.stats import skew\r\n",
        "from sklearn.preprocessing import MinMaxScaler\r\n",
        "pd.options.mode.chained_assignment = None"
      ],
      "execution_count": 280,
      "outputs": []
    },
    {
      "cell_type": "code",
      "metadata": {
        "id": "8EA5HG8pEsAE"
      },
      "source": [
        "dataset = pd.read_csv('https://raw.githubusercontent.com/Syukrondzeko/Fellowship-5/main/epl_1819.csv')"
      ],
      "execution_count": 281,
      "outputs": []
    },
    {
      "cell_type": "code",
      "metadata": {
        "colab": {
          "base_uri": "https://localhost:8080/",
          "height": 360
        },
        "id": "aibO1ktZEwNA",
        "outputId": "04ce2c55-6eb1-430d-ee7f-4417c35c0d3c"
      },
      "source": [
        "dataset.head()"
      ],
      "execution_count": 282,
      "outputs": [
        {
          "output_type": "execute_result",
          "data": {
            "text/html": [
              "<div>\n",
              "<style scoped>\n",
              "    .dataframe tbody tr th:only-of-type {\n",
              "        vertical-align: middle;\n",
              "    }\n",
              "\n",
              "    .dataframe tbody tr th {\n",
              "        vertical-align: top;\n",
              "    }\n",
              "\n",
              "    .dataframe thead th {\n",
              "        text-align: right;\n",
              "    }\n",
              "</style>\n",
              "<table border=\"1\" class=\"dataframe\">\n",
              "  <thead>\n",
              "    <tr style=\"text-align: right;\">\n",
              "      <th></th>\n",
              "      <th>Team</th>\n",
              "      <th>category</th>\n",
              "      <th>general_league_position</th>\n",
              "      <th>finance _live_games_televised</th>\n",
              "      <th>finance _tv_revenue</th>\n",
              "      <th>general_matches_played</th>\n",
              "      <th>general_won</th>\n",
              "      <th>general_draw</th>\n",
              "      <th>general_lost</th>\n",
              "      <th>attack_scored</th>\n",
              "      <th>defence_goals_conceeded</th>\n",
              "      <th>general_goal_difference</th>\n",
              "      <th>general_points</th>\n",
              "      <th>general_squad_size</th>\n",
              "      <th>general_squad_average_age</th>\n",
              "      <th>general_squad_foreigners</th>\n",
              "      <th>finance _team_market</th>\n",
              "      <th>finance _market_average</th>\n",
              "      <th>attack_passes</th>\n",
              "      <th>attack_passes_through</th>\n",
              "      <th>attack_passes_long</th>\n",
              "      <th>attack_passes_back</th>\n",
              "      <th>attack_crosses</th>\n",
              "      <th>attack_corners_taken</th>\n",
              "      <th>attack_shots</th>\n",
              "      <th>attack_shots_on_target</th>\n",
              "      <th>attack_goals_headed</th>\n",
              "      <th>attack_goals_penalty</th>\n",
              "      <th>attack_goals_box</th>\n",
              "      <th>attack_goals_outsidebox</th>\n",
              "      <th>general_card_yellow</th>\n",
              "      <th>general_card_red</th>\n",
              "      <th>attack_goals_counter</th>\n",
              "      <th>attack_goals_freekick</th>\n",
              "      <th>defence_saves</th>\n",
              "      <th>defence_blocks</th>\n",
              "      <th>defence_interceptions</th>\n",
              "      <th>defence_tackles</th>\n",
              "      <th>defence_tackles_last_man</th>\n",
              "      <th>defence_clearances</th>\n",
              "      <th>defence_clearances_headed</th>\n",
              "      <th>defence_penalty_conceeded</th>\n",
              "      <th>attack_posession</th>\n",
              "      <th>attack_pass_accuracy</th>\n",
              "    </tr>\n",
              "  </thead>\n",
              "  <tbody>\n",
              "    <tr>\n",
              "      <th>0</th>\n",
              "      <td>Manchester City</td>\n",
              "      <td>Champions League</td>\n",
              "      <td>1</td>\n",
              "      <td>26</td>\n",
              "      <td>150986355</td>\n",
              "      <td>38</td>\n",
              "      <td>32</td>\n",
              "      <td>2</td>\n",
              "      <td>4</td>\n",
              "      <td>95</td>\n",
              "      <td>23</td>\n",
              "      <td>72</td>\n",
              "      <td>98</td>\n",
              "      <td>25</td>\n",
              "      <td>27.1</td>\n",
              "      <td>20</td>\n",
              "      <td>1003200000</td>\n",
              "      <td>39987200</td>\n",
              "      <td>26,581</td>\n",
              "      <td>112</td>\n",
              "      <td>1,814</td>\n",
              "      <td>4,240</td>\n",
              "      <td>783</td>\n",
              "      <td>298</td>\n",
              "      <td>683</td>\n",
              "      <td>260</td>\n",
              "      <td>12</td>\n",
              "      <td>3</td>\n",
              "      <td>80</td>\n",
              "      <td>15</td>\n",
              "      <td>44</td>\n",
              "      <td>1</td>\n",
              "      <td>5</td>\n",
              "      <td>2</td>\n",
              "      <td>58</td>\n",
              "      <td>63</td>\n",
              "      <td>362</td>\n",
              "      <td>518</td>\n",
              "      <td>0</td>\n",
              "      <td>543</td>\n",
              "      <td>295</td>\n",
              "      <td>4</td>\n",
              "      <td>64.0</td>\n",
              "      <td>89.0</td>\n",
              "    </tr>\n",
              "    <tr>\n",
              "      <th>1</th>\n",
              "      <td>Liverpool</td>\n",
              "      <td>Champions League</td>\n",
              "      <td>2</td>\n",
              "      <td>29</td>\n",
              "      <td>152425146</td>\n",
              "      <td>38</td>\n",
              "      <td>30</td>\n",
              "      <td>7</td>\n",
              "      <td>1</td>\n",
              "      <td>89</td>\n",
              "      <td>22</td>\n",
              "      <td>67</td>\n",
              "      <td>97</td>\n",
              "      <td>24</td>\n",
              "      <td>26.8</td>\n",
              "      <td>16</td>\n",
              "      <td>836440000</td>\n",
              "      <td>34848000</td>\n",
              "      <td>23,638</td>\n",
              "      <td>98</td>\n",
              "      <td>2,250</td>\n",
              "      <td>3,416</td>\n",
              "      <td>721</td>\n",
              "      <td>249</td>\n",
              "      <td>575</td>\n",
              "      <td>226</td>\n",
              "      <td>19</td>\n",
              "      <td>7</td>\n",
              "      <td>84</td>\n",
              "      <td>5</td>\n",
              "      <td>38</td>\n",
              "      <td>2</td>\n",
              "      <td>6</td>\n",
              "      <td>1</td>\n",
              "      <td>76</td>\n",
              "      <td>78</td>\n",
              "      <td>314</td>\n",
              "      <td>610</td>\n",
              "      <td>2</td>\n",
              "      <td>639</td>\n",
              "      <td>317</td>\n",
              "      <td>1</td>\n",
              "      <td>58.8</td>\n",
              "      <td>84.4</td>\n",
              "    </tr>\n",
              "    <tr>\n",
              "      <th>2</th>\n",
              "      <td>Chelsea</td>\n",
              "      <td>Champions League Qualification</td>\n",
              "      <td>3</td>\n",
              "      <td>25</td>\n",
              "      <td>146030216</td>\n",
              "      <td>38</td>\n",
              "      <td>21</td>\n",
              "      <td>9</td>\n",
              "      <td>8</td>\n",
              "      <td>63</td>\n",
              "      <td>39</td>\n",
              "      <td>24</td>\n",
              "      <td>72</td>\n",
              "      <td>26</td>\n",
              "      <td>28.1</td>\n",
              "      <td>19</td>\n",
              "      <td>779460000</td>\n",
              "      <td>29981600</td>\n",
              "      <td>25,070</td>\n",
              "      <td>146</td>\n",
              "      <td>1,774</td>\n",
              "      <td>3,874</td>\n",
              "      <td>692</td>\n",
              "      <td>215</td>\n",
              "      <td>607</td>\n",
              "      <td>198</td>\n",
              "      <td>8</td>\n",
              "      <td>5</td>\n",
              "      <td>54</td>\n",
              "      <td>9</td>\n",
              "      <td>49</td>\n",
              "      <td>0</td>\n",
              "      <td>1</td>\n",
              "      <td>1</td>\n",
              "      <td>85</td>\n",
              "      <td>73</td>\n",
              "      <td>351</td>\n",
              "      <td>618</td>\n",
              "      <td>2</td>\n",
              "      <td>593</td>\n",
              "      <td>330</td>\n",
              "      <td>2</td>\n",
              "      <td>59.9</td>\n",
              "      <td>87.6</td>\n",
              "    </tr>\n",
              "    <tr>\n",
              "      <th>3</th>\n",
              "      <td>Tottenham</td>\n",
              "      <td>Champions League Qualification</td>\n",
              "      <td>4</td>\n",
              "      <td>26</td>\n",
              "      <td>145230801</td>\n",
              "      <td>38</td>\n",
              "      <td>23</td>\n",
              "      <td>2</td>\n",
              "      <td>13</td>\n",
              "      <td>67</td>\n",
              "      <td>39</td>\n",
              "      <td>28</td>\n",
              "      <td>71</td>\n",
              "      <td>25</td>\n",
              "      <td>27.0</td>\n",
              "      <td>17</td>\n",
              "      <td>735240000</td>\n",
              "      <td>29409600</td>\n",
              "      <td>21,295</td>\n",
              "      <td>87</td>\n",
              "      <td>2,267</td>\n",
              "      <td>3,191</td>\n",
              "      <td>643</td>\n",
              "      <td>194</td>\n",
              "      <td>537</td>\n",
              "      <td>189</td>\n",
              "      <td>14</td>\n",
              "      <td>4</td>\n",
              "      <td>53</td>\n",
              "      <td>14</td>\n",
              "      <td>56</td>\n",
              "      <td>3</td>\n",
              "      <td>5</td>\n",
              "      <td>2</td>\n",
              "      <td>121</td>\n",
              "      <td>112</td>\n",
              "      <td>326</td>\n",
              "      <td>626</td>\n",
              "      <td>3</td>\n",
              "      <td>770</td>\n",
              "      <td>411</td>\n",
              "      <td>5</td>\n",
              "      <td>56.7</td>\n",
              "      <td>83.2</td>\n",
              "    </tr>\n",
              "    <tr>\n",
              "      <th>4</th>\n",
              "      <td>Arsenal</td>\n",
              "      <td>Europa League</td>\n",
              "      <td>5</td>\n",
              "      <td>25</td>\n",
              "      <td>142193180</td>\n",
              "      <td>38</td>\n",
              "      <td>21</td>\n",
              "      <td>7</td>\n",
              "      <td>10</td>\n",
              "      <td>73</td>\n",
              "      <td>51</td>\n",
              "      <td>22</td>\n",
              "      <td>70</td>\n",
              "      <td>26</td>\n",
              "      <td>27.5</td>\n",
              "      <td>18</td>\n",
              "      <td>701800000</td>\n",
              "      <td>26989600</td>\n",
              "      <td>20,805</td>\n",
              "      <td>65</td>\n",
              "      <td>2,062</td>\n",
              "      <td>3,102</td>\n",
              "      <td>605</td>\n",
              "      <td>209</td>\n",
              "      <td>467</td>\n",
              "      <td>170</td>\n",
              "      <td>5</td>\n",
              "      <td>4</td>\n",
              "      <td>62</td>\n",
              "      <td>11</td>\n",
              "      <td>72</td>\n",
              "      <td>2</td>\n",
              "      <td>3</td>\n",
              "      <td>3</td>\n",
              "      <td>133</td>\n",
              "      <td>118</td>\n",
              "      <td>412</td>\n",
              "      <td>609</td>\n",
              "      <td>2</td>\n",
              "      <td>762</td>\n",
              "      <td>404</td>\n",
              "      <td>7</td>\n",
              "      <td>56.1</td>\n",
              "      <td>83.3</td>\n",
              "    </tr>\n",
              "  </tbody>\n",
              "</table>\n",
              "</div>"
            ],
            "text/plain": [
              "              Team  ... attack_pass_accuracy\n",
              "0  Manchester City  ...                 89.0\n",
              "1        Liverpool  ...                 84.4\n",
              "2          Chelsea  ...                 87.6\n",
              "3        Tottenham  ...                 83.2\n",
              "4          Arsenal  ...                 83.3\n",
              "\n",
              "[5 rows x 44 columns]"
            ]
          },
          "metadata": {
            "tags": []
          },
          "execution_count": 282
        }
      ]
    },
    {
      "cell_type": "code",
      "metadata": {
        "colab": {
          "base_uri": "https://localhost:8080/"
        },
        "id": "d43VASmljNoW",
        "outputId": "e73d46f5-40ba-4a6b-8a61-7c2d86ed5528"
      },
      "source": [
        "dataset.dtypes"
      ],
      "execution_count": 283,
      "outputs": [
        {
          "output_type": "execute_result",
          "data": {
            "text/plain": [
              "Team                              object\n",
              "category                          object\n",
              "general_league_position            int64\n",
              "finance _live_games_televised      int64\n",
              "finance _tv_revenue                int64\n",
              "general_matches_played             int64\n",
              "general_won                        int64\n",
              "general_draw                       int64\n",
              "general_lost                       int64\n",
              "attack_scored                      int64\n",
              "defence_goals_conceeded            int64\n",
              "general_goal_difference            int64\n",
              "general_points                     int64\n",
              "general_squad_size                 int64\n",
              "general_squad_average_age        float64\n",
              "general_squad_foreigners           int64\n",
              "finance _team_market               int64\n",
              "finance _market_average            int64\n",
              "attack_passes                     object\n",
              "attack_passes_through              int64\n",
              "attack_passes_long                object\n",
              "attack_passes_back                object\n",
              "attack_crosses                     int64\n",
              "attack_corners_taken               int64\n",
              "attack_shots                       int64\n",
              "attack_shots_on_target             int64\n",
              "attack_goals_headed                int64\n",
              "attack_goals_penalty               int64\n",
              "attack_goals_box                   int64\n",
              "attack_goals_outsidebox            int64\n",
              "general_card_yellow                int64\n",
              "general_card_red                   int64\n",
              "attack_goals_counter               int64\n",
              "attack_goals_freekick              int64\n",
              "defence_saves                      int64\n",
              "defence_blocks                     int64\n",
              "defence_interceptions              int64\n",
              "defence_tackles                    int64\n",
              "defence_tackles_last_man           int64\n",
              "defence_clearances                object\n",
              "defence_clearances_headed          int64\n",
              "defence_penalty_conceeded          int64\n",
              "attack_posession                 float64\n",
              "attack_pass_accuracy             float64\n",
              "dtype: object"
            ]
          },
          "metadata": {
            "tags": []
          },
          "execution_count": 283
        }
      ]
    },
    {
      "cell_type": "markdown",
      "metadata": {
        "id": "Mq34AcRJjSLp"
      },
      "source": [
        "Melihat dan observasi tipe data Object"
      ]
    },
    {
      "cell_type": "code",
      "metadata": {
        "colab": {
          "base_uri": "https://localhost:8080/"
        },
        "id": "UVa9c61T37HZ",
        "outputId": "00eb9d2f-6e75-43aa-b9de-8cfa3a2391a1"
      },
      "source": [
        "checkDataset = dataset.iloc[:, 2:].select_dtypes(include=['object']).columns\r\n",
        "for item in checkDataset:\r\n",
        "  print('Column Name: ', item)\r\n",
        "  print(dataset[item].tolist())"
      ],
      "execution_count": 284,
      "outputs": [
        {
          "output_type": "stream",
          "text": [
            "Column Name:  attack_passes\n",
            "['26,581', '23,638', '25,070', '21,295', '20,805', '19,202', '16,618', '16,494', '17,219', '16,358', '15,462', '15,243', '13,490', '15,943', '13,011', '14,297', '14,109', '10,226', '17,699', '15,902']\n",
            "Column Name:  attack_passes_long\n",
            "['1,814', '2,250', '1,774', '2,267', '2,062', '2,242', '2,552', '2,310', '2,335', '2,315', '2,437', '2,259', '2,680', '1,932', '2,898', '2,394', '2,623', '2,513', '2,417', '2,603']\n",
            "Column Name:  attack_passes_back\n",
            "['4,240', '3,416', '3,874', '3,191', '3,102', '2,634', '2,515', '2,362', '2,593', '2,273', '2,314', '2,233', '1,999', '2,249', '2,046', '2,040', '2,072', '1,418', '2,750', '2,492']\n",
            "Column Name:  defence_clearances\n",
            "['543', '639', '593', '770', '762', '785', '824', '825', '945', '855', '956', '940', '1,120', '1,019', '1,080', '1,068', '921', '978', '971', '658']\n"
          ],
          "name": "stdout"
        }
      ]
    },
    {
      "cell_type": "markdown",
      "metadata": {
        "id": "6kvZLVB5jXMx"
      },
      "source": [
        "Tipe Data Object seharusnya merupakan integer, tipe data tersebut menjadi object dikarenakan adanya ',' pada data tersebut. Sehingga perlu dihilangkan juga"
      ]
    },
    {
      "cell_type": "code",
      "metadata": {
        "id": "_ovf46i_5aQL"
      },
      "source": [
        "for item in checkDataset:\r\n",
        "  dataset[item] = dataset[item].replace(to_replace=r',', value='', regex=True)\r\n",
        "  dataset[item] = dataset[item].astype('int64')"
      ],
      "execution_count": 285,
      "outputs": []
    },
    {
      "cell_type": "markdown",
      "metadata": {
        "id": "C23nfB8tjmE1"
      },
      "source": [
        "Cek Tipe Data Float dan ternyata tidak ada yang aneh"
      ]
    },
    {
      "cell_type": "code",
      "metadata": {
        "colab": {
          "base_uri": "https://localhost:8080/"
        },
        "id": "yZHhLiYV5SA4",
        "outputId": "2fee4c1f-c22c-43dd-c6a1-97f15a43b1fd"
      },
      "source": [
        "checkDataset = dataset.iloc[:, 2:].select_dtypes(include=['float64']).columns\r\n",
        "for item in checkDataset:\r\n",
        "  print('Column Name: ', item)\r\n",
        "  print(dataset[item].tolist())"
      ],
      "execution_count": 286,
      "outputs": [
        {
          "output_type": "stream",
          "text": [
            "Column Name:  general_squad_average_age\n",
            "[27.1, 26.8, 28.1, 27.0, 27.5, 27.3, 27.2, 27.0, 29.0, 28.3, 26.8, 26.8, 26.1, 26.2, 27.3, 28.0, 28.4, 29.7, 26.7, 28.5]\n",
            "Column Name:  attack_posession\n",
            "[64.0, 58.8, 59.9, 56.7, 56.1, 53.3, 47.4, 51.0, 50.8, 49.0, 47.4, 46.6, 42.9, 47.7, 43.4, 45.4, 44.1, 39.1, 49.2, 47.1]\n",
            "Column Name:  attack_pass_accuracy\n",
            "[89.0, 84.4, 87.6, 83.2, 83.3, 82.3, 78.2, 77.3, 79.2, 78.7, 76.1, 76.8, 72.9, 78.1, 70.3, 74.0, 74.8, 63.9, 80.3, 75.8]\n"
          ],
          "name": "stdout"
        }
      ]
    },
    {
      "cell_type": "markdown",
      "metadata": {
        "id": "3Q0Etdwtjvtv"
      },
      "source": [
        "Cek tipe data int dan ternyata tidak ada data yang aneh"
      ]
    },
    {
      "cell_type": "code",
      "metadata": {
        "colab": {
          "base_uri": "https://localhost:8080/"
        },
        "id": "zPll-Q6H7GH8",
        "outputId": "4fae2b36-e0c2-49ba-9d71-15ac2b1a57c5"
      },
      "source": [
        "checkDataset = dataset.iloc[:, 2:].select_dtypes(include=['int64']).columns\r\n",
        "for item in checkDataset:\r\n",
        "  print('Column Name: ', item)\r\n",
        "  print(dataset[item].tolist())"
      ],
      "execution_count": 287,
      "outputs": [
        {
          "output_type": "stream",
          "text": [
            "Column Name:  general_league_position\n",
            "[1, 2, 3, 4, 5, 6, 7, 8, 9, 10, 11, 12, 13, 14, 15, 16, 17, 18, 19, 20]\n",
            "Column Name:  finance _live_games_televised\n",
            "[26, 29, 25, 26, 25, 27, 15, 18, 15, 16, 10, 12, 19, 10, 11, 10, 13, 12, 13, 10]\n",
            "Column Name:  finance _tv_revenue\n",
            "[150986355, 152425146, 146030216, 145230801, 142193180, 142512868, 127165114, 128603905, 123328078, 122528663, 113895527, 114215215, 120130418, 108139973, 107340558, 104302937, 105741728, 102704107, 101904692, 96628865]\n",
            "Column Name:  general_matches_played\n",
            "[38, 38, 38, 38, 38, 38, 38, 38, 38, 38, 38, 38, 38, 38, 38, 38, 38, 38, 38, 38]\n",
            "Column Name:  general_won\n",
            "[32, 30, 21, 23, 21, 19, 16, 15, 15, 15, 14, 14, 12, 13, 11, 9, 9, 10, 7, 3]\n",
            "Column Name:  general_draw\n",
            "[2, 7, 9, 2, 7, 9, 9, 9, 7, 7, 8, 7, 9, 6, 7, 12, 9, 4, 5, 7]\n",
            "Column Name:  general_lost\n",
            "[4, 1, 8, 13, 10, 10, 13, 14, 16, 16, 16, 17, 17, 19, 20, 17, 20, 24, 26, 28]\n",
            "Column Name:  attack_scored\n",
            "[95, 89, 63, 67, 73, 65, 47, 54, 51, 52, 52, 51, 42, 56, 45, 45, 35, 34, 34, 22]\n",
            "Column Name:  defence_goals_conceeded\n",
            "[23, 22, 39, 39, 51, 54, 46, 46, 48, 55, 59, 53, 48, 70, 68, 65, 60, 69, 81, 76]\n",
            "Column Name:  general_goal_difference\n",
            "[72, 67, 24, 28, 22, 11, 1, 8, 3, -3, -7, -2, -6, -14, -23, -20, -25, -35, -47, -54]\n",
            "Column Name:  general_points\n",
            "[98, 97, 72, 71, 70, 66, 57, 54, 52, 52, 50, 49, 45, 45, 40, 39, 36, 34, 26, 16]\n",
            "Column Name:  general_squad_size\n",
            "[25, 24, 26, 25, 26, 26, 23, 26, 26, 26, 25, 27, 20, 25, 26, 28, 23, 25, 25, 28]\n",
            "Column Name:  general_squad_foreigners\n",
            "[20, 16, 19, 17, 18, 21, 13, 16, 18, 18, 12, 22, 14, 12, 20, 22, 16, 10, 18, 27]\n",
            "Column Name:  finance _team_market\n",
            "[1003200000, 836440000, 779460000, 735240000, 701800000, 550440000, 369600000, 305360000, 284240000, 234212000, 229240000, 223520000, 214060000, 200288000, 176440000, 160072000, 152680000, 152020000, 106920000, 85492000]\n",
            "Column Name:  finance _market_average\n",
            "[39987200, 34848000, 29981600, 29409600, 26989600, 22017600, 16068800, 11748000, 10929600, 9011200, 9169600, 8280800, 10700800, 8008000, 6784800, 5720000, 6635200, 6080800, 4276800, 3053600]\n",
            "Column Name:  attack_passes\n",
            "[26581, 23638, 25070, 21295, 20805, 19202, 16618, 16494, 17219, 16358, 15462, 15243, 13490, 15943, 13011, 14297, 14109, 10226, 17699, 15902]\n",
            "Column Name:  attack_passes_through\n",
            "[112, 98, 146, 87, 65, 63, 51, 44, 88, 75, 32, 26, 50, 57, 35, 35, 15, 39, 33, 23]\n",
            "Column Name:  attack_passes_long\n",
            "[1814, 2250, 1774, 2267, 2062, 2242, 2552, 2310, 2335, 2315, 2437, 2259, 2680, 1932, 2898, 2394, 2623, 2513, 2417, 2603]\n",
            "Column Name:  attack_passes_back\n",
            "[4240, 3416, 3874, 3191, 3102, 2634, 2515, 2362, 2593, 2273, 2314, 2233, 1999, 2249, 2046, 2040, 2072, 1418, 2750, 2492]\n",
            "Column Name:  attack_crosses\n",
            "[783, 721, 692, 643, 605, 638, 622, 814, 779, 630, 570, 577, 711, 613, 693, 664, 636, 562, 611, 769]\n",
            "Column Name:  attack_corners_taken\n",
            "[298, 249, 215, 194, 209, 200, 195, 215, 210, 188, 177, 205, 181, 191, 140, 193, 156, 168, 161, 162]\n",
            "Column Name:  attack_shots\n",
            "[683, 575, 607, 537, 467, 526, 477, 498, 515, 441, 437, 493, 446, 446, 360, 483, 371, 417, 454, 400]\n",
            "Column Name:  attack_shots_on_target\n",
            "[260, 226, 198, 189, 170, 225, 152, 169, 184, 157, 152, 148, 142, 163, 116, 162, 108, 126, 146, 118]\n",
            "Column Name:  attack_goals_headed\n",
            "[12, 19, 8, 14, 5, 4, 10, 13, 9, 10, 8, 5, 12, 11, 13, 4, 10, 4, 7, 8]\n",
            "Column Name:  attack_goals_penalty\n",
            "[3, 7, 5, 4, 4, 9, 4, 2, 5, 5, 1, 10, 1, 7, 2, 4, 5, 3, 2, 1]\n",
            "Column Name:  attack_goals_box\n",
            "[80, 84, 54, 53, 62, 55, 44, 45, 43, 47, 44, 43, 40, 50, 43, 31, 34, 29, 30, 17]\n",
            "Column Name:  attack_goals_outsidebox\n",
            "[15, 5, 9, 14, 11, 10, 3, 10, 8, 5, 8, 8, 2, 6, 2, 14, 1, 5, 4, 5]\n",
            "Column Name:  general_card_yellow\n",
            "[44, 38, 49, 56, 72, 73, 72, 55, 57, 59, 77, 58, 57, 60, 75, 71, 60, 66, 68, 55]\n",
            "Column Name:  general_card_red\n",
            "[1, 2, 0, 3, 2, 4, 1, 4, 5, 1, 4, 2, 2, 1, 1, 3, 4, 1, 2, 4]\n",
            "Column Name:  attack_goals_counter\n",
            "[5, 6, 1, 5, 3, 4, 5, 3, 8, 3, 3, 2, 1, 9, 1, 1, 4, 0, 2, 1]\n",
            "Column Name:  attack_goals_freekick\n",
            "[2, 1, 1, 2, 3, 2, 2, 0, 3, 0, 0, 2, 1, 0, 0, 3, 0, 0, 0, 1]\n",
            "Column Name:  defence_saves\n",
            "[58, 76, 85, 121, 133, 122, 100, 94, 90, 148, 127, 113, 95, 110, 140, 114, 111, 141, 147, 114]\n",
            "Column Name:  defence_blocks\n",
            "[63, 78, 73, 112, 118, 128, 148, 85, 96, 141, 120, 141, 134, 152, 222, 153, 170, 147, 144, 130]\n",
            "Column Name:  defence_interceptions\n",
            "[362, 314, 351, 326, 412, 355, 501, 456, 436, 457, 426, 446, 506, 371, 365, 548, 463, 528, 433, 530]\n",
            "Column Name:  defence_tackles\n",
            "[518, 610, 618, 626, 609, 581, 720, 700, 676, 723, 655, 730, 714, 526, 583, 699, 681, 655, 591, 710]\n",
            "Column Name:  defence_tackles_last_man\n",
            "[0, 2, 2, 3, 2, 2, 2, 4, 4, 5, 8, 2, 4, 5, 5, 4, 4, 4, 0, 2]\n",
            "Column Name:  defence_clearances\n",
            "[543, 639, 593, 770, 762, 785, 824, 825, 945, 855, 956, 940, 1120, 1019, 1080, 1068, 921, 978, 971, 658]\n",
            "Column Name:  defence_clearances_headed\n",
            "[295, 317, 330, 411, 404, 370, 464, 430, 500, 397, 447, 467, 564, 515, 539, 502, 499, 448, 443, 246]\n",
            "Column Name:  defence_penalty_conceeded\n",
            "[4, 1, 2, 5, 7, 6, 4, 5, 5, 5, 5, 5, 7, 5, 5, 3, 10, 8, 7, 8]\n"
          ],
          "name": "stdout"
        }
      ]
    },
    {
      "cell_type": "markdown",
      "metadata": {
        "id": "Vq8qDjq0cyfy"
      },
      "source": [
        "Jika ingin melakukan test outliers 1 per 1"
      ]
    },
    {
      "cell_type": "code",
      "metadata": {
        "id": "fXSCwXjz7LgH"
      },
      "source": [
        "def checkPlotOutliers (columns):\r\n",
        "  plt.figure(figsize=(4,4))\r\n",
        "  plt.title(columns)\r\n",
        "  ax = sns.boxplot(data=dataset, x=columns)\r\n",
        "  Q1 = np.percentile(dataset[columns], 25, interpolation = 'midpoint') \r\n",
        "  Q3 = np.percentile(dataset[columns], 75, interpolation = 'midpoint') \r\n",
        "  IQR = Q3 - Q1 \r\n",
        "  lowerBound = Q1 - (1.5 * IQR)\r\n",
        "  upperBound = Q3 + (1.5 * IQR)\r\n",
        "  plt.show()\r\n",
        "  print('Outliers')\r\n",
        "  print('Upper: ', dataset[dataset[columns] > upperBound][['Team', columns]])\r\n",
        "  print('Lower: ', dataset[dataset[columns] < lowerBound][['Team', columns]])\r\n",
        "  print('\\n')"
      ],
      "execution_count": 288,
      "outputs": []
    },
    {
      "cell_type": "code",
      "metadata": {
        "id": "vCtveQYD-pln"
      },
      "source": [
        "# for columns in dataset.iloc[:, 3:].columns:\r\n",
        "#   checkPlotOutliers(columns)"
      ],
      "execution_count": 289,
      "outputs": []
    },
    {
      "cell_type": "code",
      "metadata": {
        "id": "ILhlnRZRE43y"
      },
      "source": [
        "# cFloat = dataset.select_dtypes(include=['float64']).columns\r\n",
        "# for item in cFloat:\r\n",
        "#     plt.figure(figsize=(4,4))\r\n",
        "#     ax = sns.displot(data=dataset, x=item, kde=True)\r\n",
        "#     plt.show()"
      ],
      "execution_count": 290,
      "outputs": []
    },
    {
      "cell_type": "markdown",
      "metadata": {
        "id": "llUzIIucT869"
      },
      "source": [
        "**Soal 2**\r\n",
        "\r\n",
        "---\r\n",
        "\r\n",
        "\r\n"
      ]
    },
    {
      "cell_type": "code",
      "metadata": {
        "colab": {
          "base_uri": "https://localhost:8080/",
          "height": 386
        },
        "id": "2hosaJsnFbO3",
        "outputId": "1959f092-f607-493f-f36e-893504525739"
      },
      "source": [
        "ax = sns.displot(data=dataset, x='general_points', kde=True)\r\n",
        "print('Skewness Value: ', skew(dataset.general_points))"
      ],
      "execution_count": 291,
      "outputs": [
        {
          "output_type": "stream",
          "text": [
            "Skewness Value:  0.5631636182874602\n"
          ],
          "name": "stdout"
        },
        {
          "output_type": "display_data",
          "data": {
            "image/png": "[encoded data removed]",
            "text/plain": [
              "<Figure size 360x360 with 1 Axes>"
            ]
          },
          "metadata": {
            "tags": [],
            "needs_background": "light"
          }
        }
      ]
    },
    {
      "cell_type": "code",
      "metadata": {
        "colab": {
          "base_uri": "https://localhost:8080/",
          "height": 280
        },
        "id": "s3be8Za_cfJs",
        "outputId": "08e1bf38-a853-41b6-aaf0-e6533d2d7c94"
      },
      "source": [
        "ax = sns.boxplot(data=dataset, x='general_points')"
      ],
      "execution_count": 350,
      "outputs": [
        {
          "output_type": "display_data",
          "data": {
            "image/png": "[encoded data removed]",
            "text/plain": [
              "<Figure size 432x288 with 1 Axes>"
            ]
          },
          "metadata": {
            "tags": [],
            "needs_background": "light"
          }
        }
      ]
    },
    {
      "cell_type": "markdown",
      "metadata": {
        "id": "iap6aQESVqvL"
      },
      "source": [
        "**Soal 3**\r\n",
        "\r\n",
        "---\r\n",
        "\r\n"
      ]
    },
    {
      "cell_type": "code",
      "metadata": {
        "colab": {
          "base_uri": "https://localhost:8080/",
          "height": 111
        },
        "id": "GxyikNnJe3rM",
        "outputId": "6b0d668f-cf64-4f0e-be85-5f8026eb0f97"
      },
      "source": [
        "dataset.iloc[:, [0,9]].head(2)"
      ],
      "execution_count": 337,
      "outputs": [
        {
          "output_type": "execute_result",
          "data": {
            "text/html": [
              "<div>\n",
              "<style scoped>\n",
              "    .dataframe tbody tr th:only-of-type {\n",
              "        vertical-align: middle;\n",
              "    }\n",
              "\n",
              "    .dataframe tbody tr th {\n",
              "        vertical-align: top;\n",
              "    }\n",
              "\n",
              "    .dataframe thead th {\n",
              "        text-align: right;\n",
              "    }\n",
              "</style>\n",
              "<table border=\"1\" class=\"dataframe\">\n",
              "  <thead>\n",
              "    <tr style=\"text-align: right;\">\n",
              "      <th></th>\n",
              "      <th>Team</th>\n",
              "      <th>attack_scored</th>\n",
              "    </tr>\n",
              "  </thead>\n",
              "  <tbody>\n",
              "    <tr>\n",
              "      <th>0</th>\n",
              "      <td>Manchester City</td>\n",
              "      <td>95</td>\n",
              "    </tr>\n",
              "    <tr>\n",
              "      <th>1</th>\n",
              "      <td>Liverpool</td>\n",
              "      <td>89</td>\n",
              "    </tr>\n",
              "  </tbody>\n",
              "</table>\n",
              "</div>"
            ],
            "text/plain": [
              "              Team  attack_scored\n",
              "0  Manchester City             95\n",
              "1        Liverpool             89"
            ]
          },
          "metadata": {
            "tags": []
          },
          "execution_count": 337
        }
      ]
    },
    {
      "cell_type": "code",
      "metadata": {
        "colab": {
          "base_uri": "https://localhost:8080/",
          "height": 204
        },
        "id": "tQKDDTFGwfO5",
        "outputId": "871160d9-dce8-4aec-eed9-b9e9ba0b5aa3"
      },
      "source": [
        "dataset[['Team', 'attack_scored', 'attack_shots', 'attack_shots_on_target', 'attack_posession', 'attack_pass_accuracy']].corr()"
      ],
      "execution_count": 308,
      "outputs": [
        {
          "output_type": "execute_result",
          "data": {
            "text/html": [
              "<div>\n",
              "<style scoped>\n",
              "    .dataframe tbody tr th:only-of-type {\n",
              "        vertical-align: middle;\n",
              "    }\n",
              "\n",
              "    .dataframe tbody tr th {\n",
              "        vertical-align: top;\n",
              "    }\n",
              "\n",
              "    .dataframe thead th {\n",
              "        text-align: right;\n",
              "    }\n",
              "</style>\n",
              "<table border=\"1\" class=\"dataframe\">\n",
              "  <thead>\n",
              "    <tr style=\"text-align: right;\">\n",
              "      <th></th>\n",
              "      <th>attack_scored</th>\n",
              "      <th>attack_shots</th>\n",
              "      <th>attack_shots_on_target</th>\n",
              "      <th>attack_posession</th>\n",
              "      <th>attack_pass_accuracy</th>\n",
              "    </tr>\n",
              "  </thead>\n",
              "  <tbody>\n",
              "    <tr>\n",
              "      <th>attack_scored</th>\n",
              "      <td>1.000000</td>\n",
              "      <td>0.804922</td>\n",
              "      <td>0.889678</td>\n",
              "      <td>0.849823</td>\n",
              "      <td>0.751870</td>\n",
              "    </tr>\n",
              "    <tr>\n",
              "      <th>attack_shots</th>\n",
              "      <td>0.804922</td>\n",
              "      <td>1.000000</td>\n",
              "      <td>0.929259</td>\n",
              "      <td>0.865745</td>\n",
              "      <td>0.799261</td>\n",
              "    </tr>\n",
              "    <tr>\n",
              "      <th>attack_shots_on_target</th>\n",
              "      <td>0.889678</td>\n",
              "      <td>0.929259</td>\n",
              "      <td>1.000000</td>\n",
              "      <td>0.870274</td>\n",
              "      <td>0.801613</td>\n",
              "    </tr>\n",
              "    <tr>\n",
              "      <th>attack_posession</th>\n",
              "      <td>0.849823</td>\n",
              "      <td>0.865745</td>\n",
              "      <td>0.870274</td>\n",
              "      <td>1.000000</td>\n",
              "      <td>0.951080</td>\n",
              "    </tr>\n",
              "    <tr>\n",
              "      <th>attack_pass_accuracy</th>\n",
              "      <td>0.751870</td>\n",
              "      <td>0.799261</td>\n",
              "      <td>0.801613</td>\n",
              "      <td>0.951080</td>\n",
              "      <td>1.000000</td>\n",
              "    </tr>\n",
              "  </tbody>\n",
              "</table>\n",
              "</div>"
            ],
            "text/plain": [
              "                        attack_scored  ...  attack_pass_accuracy\n",
              "attack_scored                1.000000  ...              0.751870\n",
              "attack_shots                 0.804922  ...              0.799261\n",
              "attack_shots_on_target       0.889678  ...              0.801613\n",
              "attack_posession             0.849823  ...              0.951080\n",
              "attack_pass_accuracy         0.751870  ...              1.000000\n",
              "\n",
              "[5 rows x 5 columns]"
            ]
          },
          "metadata": {
            "tags": []
          },
          "execution_count": 308
        }
      ]
    },
    {
      "cell_type": "code",
      "metadata": {
        "colab": {
          "base_uri": "https://localhost:8080/",
          "height": 204
        },
        "id": "_qrfCv5vdYnu",
        "outputId": "32273003-dc77-4c61-caee-d13276519f1c"
      },
      "source": [
        "dfAttack = dataset[['Team', 'attack_shots', 'attack_shots_on_target', 'attack_posession', 'attack_pass_accuracy']]\r\n",
        "# Hitung efisiensi Penyerangan\r\n",
        "# Jumlah Gol yang didapatkan / Berapa usahanya\r\n",
        "for i in range (1, len(dfAttack.columns)):\r\n",
        "  dfAttack.iloc[:, i] = dataset.iloc[:, 9]/dfAttack.iloc[:, i]\r\n",
        "dfAttack.iloc[:, 1:] = MinMaxScaler().fit_transform(dfAttack.iloc[:, 1:])\r\n",
        "# Dikurangi 1 dikarenakan tidak menghitung kolom Team\r\n",
        "dfAttack['Overall Attack'] = dfAttack.iloc[:, 1:].sum(axis=1)/ (len(dfAttack.columns)-1)\r\n",
        "dfAttack.head()"
      ],
      "execution_count": 343,
      "outputs": [
        {
          "output_type": "execute_result",
          "data": {
            "text/html": [
              "<div>\n",
              "<style scoped>\n",
              "    .dataframe tbody tr th:only-of-type {\n",
              "        vertical-align: middle;\n",
              "    }\n",
              "\n",
              "    .dataframe tbody tr th {\n",
              "        vertical-align: top;\n",
              "    }\n",
              "\n",
              "    .dataframe thead th {\n",
              "        text-align: right;\n",
              "    }\n",
              "</style>\n",
              "<table border=\"1\" class=\"dataframe\">\n",
              "  <thead>\n",
              "    <tr style=\"text-align: right;\">\n",
              "      <th></th>\n",
              "      <th>Team</th>\n",
              "      <th>attack_shots</th>\n",
              "      <th>attack_shots_on_target</th>\n",
              "      <th>attack_posession</th>\n",
              "      <th>attack_pass_accuracy</th>\n",
              "      <th>Overall Attack</th>\n",
              "    </tr>\n",
              "  </thead>\n",
              "  <tbody>\n",
              "    <tr>\n",
              "      <th>0</th>\n",
              "      <td>Manchester City</td>\n",
              "      <td>0.829992</td>\n",
              "      <td>0.736482</td>\n",
              "      <td>0.972069</td>\n",
              "      <td>1.000000</td>\n",
              "      <td>0.884636</td>\n",
              "    </tr>\n",
              "    <tr>\n",
              "      <th>1</th>\n",
              "      <td>Liverpool</td>\n",
              "      <td>0.984856</td>\n",
              "      <td>0.853454</td>\n",
              "      <td>1.000000</td>\n",
              "      <td>0.983384</td>\n",
              "      <td>0.955424</td>\n",
              "    </tr>\n",
              "    <tr>\n",
              "      <th>2</th>\n",
              "      <td>Chelsea</td>\n",
              "      <td>0.481550</td>\n",
              "      <td>0.542209</td>\n",
              "      <td>0.558675</td>\n",
              "      <td>0.551920</td>\n",
              "      <td>0.533589</td>\n",
              "    </tr>\n",
              "    <tr>\n",
              "      <th>3</th>\n",
              "      <td>Tottenham</td>\n",
              "      <td>0.688604</td>\n",
              "      <td>0.691674</td>\n",
              "      <td>0.682806</td>\n",
              "      <td>0.662719</td>\n",
              "      <td>0.681451</td>\n",
              "    </tr>\n",
              "    <tr>\n",
              "      <th>4</th>\n",
              "      <td>Arsenal</td>\n",
              "      <td>1.000000</td>\n",
              "      <td>1.000000</td>\n",
              "      <td>0.797081</td>\n",
              "      <td>0.754155</td>\n",
              "      <td>0.887809</td>\n",
              "    </tr>\n",
              "  </tbody>\n",
              "</table>\n",
              "</div>"
            ],
            "text/plain": [
              "              Team  attack_shots  ...  attack_pass_accuracy  Overall Attack\n",
              "0  Manchester City      0.829992  ...              1.000000        0.884636\n",
              "1        Liverpool      0.984856  ...              0.983384        0.955424\n",
              "2          Chelsea      0.481550  ...              0.551920        0.533589\n",
              "3        Tottenham      0.688604  ...              0.662719        0.681451\n",
              "4          Arsenal      1.000000  ...              0.754155        0.887809\n",
              "\n",
              "[5 rows x 6 columns]"
            ]
          },
          "metadata": {
            "tags": []
          },
          "execution_count": 343
        }
      ]
    },
    {
      "cell_type": "code",
      "metadata": {
        "colab": {
          "base_uri": "https://localhost:8080/",
          "height": 499
        },
        "id": "FpdpKN-DYlGn",
        "outputId": "46d33200-3e94-46cc-8ef6-05bfb55573af"
      },
      "source": [
        "plt.figure(figsize=(30,8))\r\n",
        "sns.barplot(x='Team', y='Overall Attack', data=dfAttack.sort_values(by=['Overall Attack'], ascending=False), palette=\"Reds_r\")\r\n",
        "plt.show()"
      ],
      "execution_count": 331,
      "outputs": [
        {
          "output_type": "display_data",
          "data": {
            "image/png": "[encoded data removed]",
            "text/plain": [
              "<Figure size 2160x576 with 1 Axes>"
            ]
          },
          "metadata": {
            "tags": [],
            "needs_background": "light"
          }
        }
      ]
    },
    {
      "cell_type": "markdown",
      "metadata": {
        "id": "Bs1mmsbbZSyG"
      },
      "source": [
        "**Soal 4**\r\n",
        "\r\n",
        "---\r\n",
        "\r\n"
      ]
    },
    {
      "cell_type": "code",
      "metadata": {
        "colab": {
          "base_uri": "https://localhost:8080/",
          "height": 111
        },
        "id": "FzMc5pMYfCsk",
        "outputId": "7218aafc-73bf-45a0-bf7a-49c0ab3a699c"
      },
      "source": [
        "dataset.iloc[:, [0,10]].head(2)"
      ],
      "execution_count": 338,
      "outputs": [
        {
          "output_type": "execute_result",
          "data": {
            "text/html": [
              "<div>\n",
              "<style scoped>\n",
              "    .dataframe tbody tr th:only-of-type {\n",
              "        vertical-align: middle;\n",
              "    }\n",
              "\n",
              "    .dataframe tbody tr th {\n",
              "        vertical-align: top;\n",
              "    }\n",
              "\n",
              "    .dataframe thead th {\n",
              "        text-align: right;\n",
              "    }\n",
              "</style>\n",
              "<table border=\"1\" class=\"dataframe\">\n",
              "  <thead>\n",
              "    <tr style=\"text-align: right;\">\n",
              "      <th></th>\n",
              "      <th>Team</th>\n",
              "      <th>defence_goals_conceeded</th>\n",
              "    </tr>\n",
              "  </thead>\n",
              "  <tbody>\n",
              "    <tr>\n",
              "      <th>0</th>\n",
              "      <td>Manchester City</td>\n",
              "      <td>23</td>\n",
              "    </tr>\n",
              "    <tr>\n",
              "      <th>1</th>\n",
              "      <td>Liverpool</td>\n",
              "      <td>22</td>\n",
              "    </tr>\n",
              "  </tbody>\n",
              "</table>\n",
              "</div>"
            ],
            "text/plain": [
              "              Team  defence_goals_conceeded\n",
              "0  Manchester City                       23\n",
              "1        Liverpool                       22"
            ]
          },
          "metadata": {
            "tags": []
          },
          "execution_count": 338
        }
      ]
    },
    {
      "cell_type": "code",
      "metadata": {
        "colab": {
          "base_uri": "https://localhost:8080/",
          "height": 235
        },
        "id": "Ibi7_uqQwsk-",
        "outputId": "f5fa71fb-dee7-4d1d-d2f7-997f2237ee67"
      },
      "source": [
        "dataset[['Team', 'defence_goals_conceeded', 'defence_saves' , 'defence_blocks', 'defence_interceptions', 'defence_tackles', 'defence_clearances']].corr()"
      ],
      "execution_count": 309,
      "outputs": [
        {
          "output_type": "execute_result",
          "data": {
            "text/html": [
              "<div>\n",
              "<style scoped>\n",
              "    .dataframe tbody tr th:only-of-type {\n",
              "        vertical-align: middle;\n",
              "    }\n",
              "\n",
              "    .dataframe tbody tr th {\n",
              "        vertical-align: top;\n",
              "    }\n",
              "\n",
              "    .dataframe thead th {\n",
              "        text-align: right;\n",
              "    }\n",
              "</style>\n",
              "<table border=\"1\" class=\"dataframe\">\n",
              "  <thead>\n",
              "    <tr style=\"text-align: right;\">\n",
              "      <th></th>\n",
              "      <th>defence_goals_conceeded</th>\n",
              "      <th>defence_saves</th>\n",
              "      <th>defence_blocks</th>\n",
              "      <th>defence_interceptions</th>\n",
              "      <th>defence_tackles</th>\n",
              "      <th>defence_clearances</th>\n",
              "    </tr>\n",
              "  </thead>\n",
              "  <tbody>\n",
              "    <tr>\n",
              "      <th>defence_goals_conceeded</th>\n",
              "      <td>1.000000</td>\n",
              "      <td>0.745762</td>\n",
              "      <td>0.718916</td>\n",
              "      <td>0.504485</td>\n",
              "      <td>0.124210</td>\n",
              "      <td>0.604531</td>\n",
              "    </tr>\n",
              "    <tr>\n",
              "      <th>defence_saves</th>\n",
              "      <td>0.745762</td>\n",
              "      <td>1.000000</td>\n",
              "      <td>0.679629</td>\n",
              "      <td>0.236492</td>\n",
              "      <td>0.122314</td>\n",
              "      <td>0.494461</td>\n",
              "    </tr>\n",
              "    <tr>\n",
              "      <th>defence_blocks</th>\n",
              "      <td>0.718916</td>\n",
              "      <td>0.679629</td>\n",
              "      <td>1.000000</td>\n",
              "      <td>0.328522</td>\n",
              "      <td>0.138578</td>\n",
              "      <td>0.720106</td>\n",
              "    </tr>\n",
              "    <tr>\n",
              "      <th>defence_interceptions</th>\n",
              "      <td>0.504485</td>\n",
              "      <td>0.236492</td>\n",
              "      <td>0.328522</td>\n",
              "      <td>1.000000</td>\n",
              "      <td>0.723663</td>\n",
              "      <td>0.433340</td>\n",
              "    </tr>\n",
              "    <tr>\n",
              "      <th>defence_tackles</th>\n",
              "      <td>0.124210</td>\n",
              "      <td>0.122314</td>\n",
              "      <td>0.138578</td>\n",
              "      <td>0.723663</td>\n",
              "      <td>1.000000</td>\n",
              "      <td>0.249393</td>\n",
              "    </tr>\n",
              "    <tr>\n",
              "      <th>defence_clearances</th>\n",
              "      <td>0.604531</td>\n",
              "      <td>0.494461</td>\n",
              "      <td>0.720106</td>\n",
              "      <td>0.433340</td>\n",
              "      <td>0.249393</td>\n",
              "      <td>1.000000</td>\n",
              "    </tr>\n",
              "  </tbody>\n",
              "</table>\n",
              "</div>"
            ],
            "text/plain": [
              "                         defence_goals_conceeded  ...  defence_clearances\n",
              "defence_goals_conceeded                 1.000000  ...            0.604531\n",
              "defence_saves                           0.745762  ...            0.494461\n",
              "defence_blocks                          0.718916  ...            0.720106\n",
              "defence_interceptions                   0.504485  ...            0.433340\n",
              "defence_tackles                         0.124210  ...            0.249393\n",
              "defence_clearances                      0.604531  ...            1.000000\n",
              "\n",
              "[6 rows x 6 columns]"
            ]
          },
          "metadata": {
            "tags": []
          },
          "execution_count": 309
        }
      ]
    },
    {
      "cell_type": "code",
      "metadata": {
        "colab": {
          "base_uri": "https://localhost:8080/",
          "height": 204
        },
        "id": "A5SKIunnbOEt",
        "outputId": "88b42102-844c-4009-c65f-3431fe387a1d"
      },
      "source": [
        "dfDeff = dataset[['Team', 'defence_saves' , 'defence_blocks', 'defence_interceptions', 'defence_tackles', 'defence_clearances']]\r\n",
        "# Hitung efisiensi Pertahanan\r\n",
        "# Jumlah aktifitas yang dilakukan / Berapa kali kebobolan\r\n",
        "for i in range (1, len(dfDeff.columns)):\r\n",
        "  dfDeff.iloc[:, i] = dfDeff.iloc[:, i]/dataset.iloc[:, 10]\r\n",
        "dfDeff.iloc[:, 1:] = MinMaxScaler().fit_transform(dfDeff.iloc[:, 1:])\r\n",
        "# Dikurangi 1 dikarenakan tidak menghitung kolom Team\r\n",
        "dfDeff['Overall Defence'] = dfDeff.iloc[:, 1:].sum(axis=1)/ (len(dfDeff.columns)-1)\r\n",
        "dfDeff.head()"
      ],
      "execution_count": 346,
      "outputs": [
        {
          "output_type": "execute_result",
          "data": {
            "text/html": [
              "<div>\n",
              "<style scoped>\n",
              "    .dataframe tbody tr th:only-of-type {\n",
              "        vertical-align: middle;\n",
              "    }\n",
              "\n",
              "    .dataframe tbody tr th {\n",
              "        vertical-align: top;\n",
              "    }\n",
              "\n",
              "    .dataframe thead th {\n",
              "        text-align: right;\n",
              "    }\n",
              "</style>\n",
              "<table border=\"1\" class=\"dataframe\">\n",
              "  <thead>\n",
              "    <tr style=\"text-align: right;\">\n",
              "      <th></th>\n",
              "      <th>Team</th>\n",
              "      <th>defence_saves</th>\n",
              "      <th>defence_blocks</th>\n",
              "      <th>defence_clearances</th>\n",
              "      <th>Overall Defence</th>\n",
              "    </tr>\n",
              "  </thead>\n",
              "  <tbody>\n",
              "    <tr>\n",
              "      <th>0</th>\n",
              "      <td>Manchester City</td>\n",
              "      <td>0.522750</td>\n",
              "      <td>0.560569</td>\n",
              "      <td>0.733330</td>\n",
              "      <td>0.605550</td>\n",
              "    </tr>\n",
              "    <tr>\n",
              "      <th>1</th>\n",
              "      <td>Liverpool</td>\n",
              "      <td>1.000000</td>\n",
              "      <td>1.000000</td>\n",
              "      <td>1.000000</td>\n",
              "      <td>1.000000</td>\n",
              "    </tr>\n",
              "    <tr>\n",
              "      <th>2</th>\n",
              "      <td>Chelsea</td>\n",
              "      <td>0.347645</td>\n",
              "      <td>0.087888</td>\n",
              "      <td>0.321139</td>\n",
              "      <td>0.252224</td>\n",
              "    </tr>\n",
              "    <tr>\n",
              "      <th>3</th>\n",
              "      <td>Tottenham</td>\n",
              "      <td>0.819917</td>\n",
              "      <td>0.632869</td>\n",
              "      <td>0.543748</td>\n",
              "      <td>0.665511</td>\n",
              "    </tr>\n",
              "    <tr>\n",
              "      <th>4</th>\n",
              "      <td>Arsenal</td>\n",
              "      <td>0.566803</td>\n",
              "      <td>0.328732</td>\n",
              "      <td>0.308192</td>\n",
              "      <td>0.401242</td>\n",
              "    </tr>\n",
              "  </tbody>\n",
              "</table>\n",
              "</div>"
            ],
            "text/plain": [
              "              Team  defence_saves  ...  defence_clearances  Overall Defence\n",
              "0  Manchester City       0.522750  ...            0.733330         0.605550\n",
              "1        Liverpool       1.000000  ...            1.000000         1.000000\n",
              "2          Chelsea       0.347645  ...            0.321139         0.252224\n",
              "3        Tottenham       0.819917  ...            0.543748         0.665511\n",
              "4          Arsenal       0.566803  ...            0.308192         0.401242\n",
              "\n",
              "[5 rows x 5 columns]"
            ]
          },
          "metadata": {
            "tags": []
          },
          "execution_count": 346
        }
      ]
    },
    {
      "cell_type": "code",
      "metadata": {
        "colab": {
          "base_uri": "https://localhost:8080/",
          "height": 235
        },
        "id": "itqUlA51wTki",
        "outputId": "a64d1ca6-1e25-4994-973e-7ebde308e92e"
      },
      "source": [
        "dfDeff.corr()"
      ],
      "execution_count": 335,
      "outputs": [
        {
          "output_type": "execute_result",
          "data": {
            "text/html": [
              "<div>\n",
              "<style scoped>\n",
              "    .dataframe tbody tr th:only-of-type {\n",
              "        vertical-align: middle;\n",
              "    }\n",
              "\n",
              "    .dataframe tbody tr th {\n",
              "        vertical-align: top;\n",
              "    }\n",
              "\n",
              "    .dataframe thead th {\n",
              "        text-align: right;\n",
              "    }\n",
              "</style>\n",
              "<table border=\"1\" class=\"dataframe\">\n",
              "  <thead>\n",
              "    <tr style=\"text-align: right;\">\n",
              "      <th></th>\n",
              "      <th>defence_saves</th>\n",
              "      <th>defence_blocks</th>\n",
              "      <th>defence_interceptions</th>\n",
              "      <th>defence_tackles</th>\n",
              "      <th>defence_clearances</th>\n",
              "      <th>Overall Defence</th>\n",
              "    </tr>\n",
              "  </thead>\n",
              "  <tbody>\n",
              "    <tr>\n",
              "      <th>defence_saves</th>\n",
              "      <td>1.000000</td>\n",
              "      <td>0.573556</td>\n",
              "      <td>0.540943</td>\n",
              "      <td>0.736345</td>\n",
              "      <td>0.642898</td>\n",
              "      <td>0.815016</td>\n",
              "    </tr>\n",
              "    <tr>\n",
              "      <th>defence_blocks</th>\n",
              "      <td>0.573556</td>\n",
              "      <td>1.000000</td>\n",
              "      <td>0.435165</td>\n",
              "      <td>0.518899</td>\n",
              "      <td>0.645316</td>\n",
              "      <td>0.756677</td>\n",
              "    </tr>\n",
              "    <tr>\n",
              "      <th>defence_interceptions</th>\n",
              "      <td>0.540943</td>\n",
              "      <td>0.435165</td>\n",
              "      <td>1.000000</td>\n",
              "      <td>0.928159</td>\n",
              "      <td>0.812730</td>\n",
              "      <td>0.859415</td>\n",
              "    </tr>\n",
              "    <tr>\n",
              "      <th>defence_tackles</th>\n",
              "      <td>0.736345</td>\n",
              "      <td>0.518899</td>\n",
              "      <td>0.928159</td>\n",
              "      <td>1.000000</td>\n",
              "      <td>0.869177</td>\n",
              "      <td>0.937918</td>\n",
              "    </tr>\n",
              "    <tr>\n",
              "      <th>defence_clearances</th>\n",
              "      <td>0.642898</td>\n",
              "      <td>0.645316</td>\n",
              "      <td>0.812730</td>\n",
              "      <td>0.869177</td>\n",
              "      <td>1.000000</td>\n",
              "      <td>0.919546</td>\n",
              "    </tr>\n",
              "    <tr>\n",
              "      <th>Overall Defence</th>\n",
              "      <td>0.815016</td>\n",
              "      <td>0.756677</td>\n",
              "      <td>0.859415</td>\n",
              "      <td>0.937918</td>\n",
              "      <td>0.919546</td>\n",
              "      <td>1.000000</td>\n",
              "    </tr>\n",
              "  </tbody>\n",
              "</table>\n",
              "</div>"
            ],
            "text/plain": [
              "                       defence_saves  ...  Overall Defence\n",
              "defence_saves               1.000000  ...         0.815016\n",
              "defence_blocks              0.573556  ...         0.756677\n",
              "defence_interceptions       0.540943  ...         0.859415\n",
              "defence_tackles             0.736345  ...         0.937918\n",
              "defence_clearances          0.642898  ...         0.919546\n",
              "Overall Defence             0.815016  ...         1.000000\n",
              "\n",
              "[6 rows x 6 columns]"
            ]
          },
          "metadata": {
            "tags": []
          },
          "execution_count": 335
        }
      ]
    },
    {
      "cell_type": "code",
      "metadata": {
        "colab": {
          "base_uri": "https://localhost:8080/",
          "height": 497
        },
        "id": "2e2ds-vxZeK2",
        "outputId": "e431d000-c81b-4678-98da-04092c04cd52"
      },
      "source": [
        "plt.figure(figsize=(30,8))\r\n",
        "sns.barplot(x='Team', y='Overall Defence', data=dfDeff.sort_values(by=['Overall Defence'], ascending=False), palette=\"Blues_r\")\r\n",
        "plt.show()"
      ],
      "execution_count": 347,
      "outputs": [
        {
          "output_type": "display_data",
          "data": {
            "image/png": "[encoded data removed]",
            "text/plain": [
              "<Figure size 2160x576 with 1 Axes>"
            ]
          },
          "metadata": {
            "tags": [],
            "needs_background": "light"
          }
        }
      ]
    },
    {
      "cell_type": "markdown",
      "metadata": {
        "id": "3wVYaXcKfUX7"
      },
      "source": [
        "**Soal 5**\r\n",
        "\r\n",
        "---\r\n",
        "\r\n"
      ]
    },
    {
      "cell_type": "code",
      "metadata": {
        "colab": {
          "base_uri": "https://localhost:8080/",
          "height": 80
        },
        "id": "4UWZJzysiyhk",
        "outputId": "812ad65a-ceb1-4a95-c803-9bcbb69d2096"
      },
      "source": [
        "dataset.iloc[:, [0,3]].head(1)"
      ],
      "execution_count": 302,
      "outputs": [
        {
          "output_type": "execute_result",
          "data": {
            "text/html": [
              "<div>\n",
              "<style scoped>\n",
              "    .dataframe tbody tr th:only-of-type {\n",
              "        vertical-align: middle;\n",
              "    }\n",
              "\n",
              "    .dataframe tbody tr th {\n",
              "        vertical-align: top;\n",
              "    }\n",
              "\n",
              "    .dataframe thead th {\n",
              "        text-align: right;\n",
              "    }\n",
              "</style>\n",
              "<table border=\"1\" class=\"dataframe\">\n",
              "  <thead>\n",
              "    <tr style=\"text-align: right;\">\n",
              "      <th></th>\n",
              "      <th>Team</th>\n",
              "      <th>finance _live_games_televised</th>\n",
              "    </tr>\n",
              "  </thead>\n",
              "  <tbody>\n",
              "    <tr>\n",
              "      <th>0</th>\n",
              "      <td>Manchester City</td>\n",
              "      <td>26</td>\n",
              "    </tr>\n",
              "  </tbody>\n",
              "</table>\n",
              "</div>"
            ],
            "text/plain": [
              "              Team  finance _live_games_televised\n",
              "0  Manchester City                             26"
            ]
          },
          "metadata": {
            "tags": []
          },
          "execution_count": 302
        }
      ]
    },
    {
      "cell_type": "code",
      "metadata": {
        "colab": {
          "base_uri": "https://localhost:8080/",
          "height": 204
        },
        "id": "6qhZ-ADbfgbG",
        "outputId": "3e42b3f0-2fb0-495e-94b1-ea380454d9ee"
      },
      "source": [
        "dfFinance = dataset[['Team', 'finance _tv_revenue', 'finance _team_market', 'finance _market_average']]\r\n",
        "# Hitung efisiensi live dari televisi dengan perhitungan\r\n",
        "# Jumlah Tayangan / Pendapatan\r\n",
        "dfFinance.iloc[:, 1] = dataset.iloc[:, 3]/dfFinance.iloc[:, 1]\r\n",
        "dfFinance.iloc[:, 1:] = MinMaxScaler().fit_transform(dfFinance.iloc[:, 1:])\r\n",
        "# Dikurangi 1 dikarenakan tidak menghitung kolom Team\r\n",
        "dfFinance['Overall Finance'] = dfFinance.iloc[:, 1:].sum(axis=1)/ (len(dfFinance.columns)-1)\r\n",
        "dfFinance.head()\r\n"
      ],
      "execution_count": 344,
      "outputs": [
        {
          "output_type": "execute_result",
          "data": {
            "text/html": [
              "<div>\n",
              "<style scoped>\n",
              "    .dataframe tbody tr th:only-of-type {\n",
              "        vertical-align: middle;\n",
              "    }\n",
              "\n",
              "    .dataframe tbody tr th {\n",
              "        vertical-align: top;\n",
              "    }\n",
              "\n",
              "    .dataframe thead th {\n",
              "        text-align: right;\n",
              "    }\n",
              "</style>\n",
              "<table border=\"1\" class=\"dataframe\">\n",
              "  <thead>\n",
              "    <tr style=\"text-align: right;\">\n",
              "      <th></th>\n",
              "      <th>Team</th>\n",
              "      <th>finance _tv_revenue</th>\n",
              "      <th>finance _team_market</th>\n",
              "      <th>finance _market_average</th>\n",
              "      <th>Overall Finance</th>\n",
              "    </tr>\n",
              "  </thead>\n",
              "  <tbody>\n",
              "    <tr>\n",
              "      <th>0</th>\n",
              "      <td>Manchester City</td>\n",
              "      <td>0.823768</td>\n",
              "      <td>1.000000</td>\n",
              "      <td>1.000000</td>\n",
              "      <td>0.941256</td>\n",
              "    </tr>\n",
              "    <tr>\n",
              "      <th>1</th>\n",
              "      <td>Liverpool</td>\n",
              "      <td>1.000000</td>\n",
              "      <td>0.818286</td>\n",
              "      <td>0.860853</td>\n",
              "      <td>0.893046</td>\n",
              "    </tr>\n",
              "    <tr>\n",
              "      <th>2</th>\n",
              "      <td>Chelsea</td>\n",
              "      <td>0.813973</td>\n",
              "      <td>0.756197</td>\n",
              "      <td>0.729092</td>\n",
              "      <td>0.766421</td>\n",
              "    </tr>\n",
              "    <tr>\n",
              "      <th>3</th>\n",
              "      <td>Tottenham</td>\n",
              "      <td>0.890375</td>\n",
              "      <td>0.708012</td>\n",
              "      <td>0.713605</td>\n",
              "      <td>0.770664</td>\n",
              "    </tr>\n",
              "    <tr>\n",
              "      <th>4</th>\n",
              "      <td>Arsenal</td>\n",
              "      <td>0.859062</td>\n",
              "      <td>0.671573</td>\n",
              "      <td>0.648082</td>\n",
              "      <td>0.726239</td>\n",
              "    </tr>\n",
              "  </tbody>\n",
              "</table>\n",
              "</div>"
            ],
            "text/plain": [
              "              Team  ...  Overall Finance\n",
              "0  Manchester City  ...         0.941256\n",
              "1        Liverpool  ...         0.893046\n",
              "2          Chelsea  ...         0.766421\n",
              "3        Tottenham  ...         0.770664\n",
              "4          Arsenal  ...         0.726239\n",
              "\n",
              "[5 rows x 5 columns]"
            ]
          },
          "metadata": {
            "tags": []
          },
          "execution_count": 344
        }
      ]
    },
    {
      "cell_type": "code",
      "metadata": {
        "colab": {
          "base_uri": "https://localhost:8080/",
          "height": 173
        },
        "id": "R5iE_oTjwN7D",
        "outputId": "1efd2a8f-ac5a-4eaf-82ca-bf66417e9b30"
      },
      "source": [
        "dfFinance.corr()"
      ],
      "execution_count": 345,
      "outputs": [
        {
          "output_type": "execute_result",
          "data": {
            "text/html": [
              "<div>\n",
              "<style scoped>\n",
              "    .dataframe tbody tr th:only-of-type {\n",
              "        vertical-align: middle;\n",
              "    }\n",
              "\n",
              "    .dataframe tbody tr th {\n",
              "        vertical-align: top;\n",
              "    }\n",
              "\n",
              "    .dataframe thead th {\n",
              "        text-align: right;\n",
              "    }\n",
              "</style>\n",
              "<table border=\"1\" class=\"dataframe\">\n",
              "  <thead>\n",
              "    <tr style=\"text-align: right;\">\n",
              "      <th></th>\n",
              "      <th>finance _tv_revenue</th>\n",
              "      <th>finance _team_market</th>\n",
              "      <th>finance _market_average</th>\n",
              "      <th>Overall Finance</th>\n",
              "    </tr>\n",
              "  </thead>\n",
              "  <tbody>\n",
              "    <tr>\n",
              "      <th>finance _tv_revenue</th>\n",
              "      <td>1.000000</td>\n",
              "      <td>0.823792</td>\n",
              "      <td>0.835208</td>\n",
              "      <td>0.926907</td>\n",
              "    </tr>\n",
              "    <tr>\n",
              "      <th>finance _team_market</th>\n",
              "      <td>0.823792</td>\n",
              "      <td>1.000000</td>\n",
              "      <td>0.997373</td>\n",
              "      <td>0.975931</td>\n",
              "    </tr>\n",
              "    <tr>\n",
              "      <th>finance _market_average</th>\n",
              "      <td>0.835208</td>\n",
              "      <td>0.997373</td>\n",
              "      <td>1.000000</td>\n",
              "      <td>0.980130</td>\n",
              "    </tr>\n",
              "    <tr>\n",
              "      <th>Overall Finance</th>\n",
              "      <td>0.926907</td>\n",
              "      <td>0.975931</td>\n",
              "      <td>0.980130</td>\n",
              "      <td>1.000000</td>\n",
              "    </tr>\n",
              "  </tbody>\n",
              "</table>\n",
              "</div>"
            ],
            "text/plain": [
              "                         finance _tv_revenue  ...  Overall Finance\n",
              "finance _tv_revenue                 1.000000  ...         0.926907\n",
              "finance _team_market                0.823792  ...         0.975931\n",
              "finance _market_average             0.835208  ...         0.980130\n",
              "Overall Finance                     0.926907  ...         1.000000\n",
              "\n",
              "[4 rows x 4 columns]"
            ]
          },
          "metadata": {
            "tags": []
          },
          "execution_count": 345
        }
      ]
    },
    {
      "cell_type": "code",
      "metadata": {
        "colab": {
          "base_uri": "https://localhost:8080/",
          "height": 497
        },
        "id": "a2B_yBm-gT4f",
        "outputId": "7f381431-057d-4c60-ad9c-b3a59298e13f"
      },
      "source": [
        "plt.figure(figsize=(30,8))\r\n",
        "sns.barplot(x='Team', y='Overall Finance', data=dfFinance.sort_values(by=['Overall Finance'], ascending=False), palette=\"Greens_r\")\r\n",
        "plt.show()"
      ],
      "execution_count": 304,
      "outputs": [
        {
          "output_type": "display_data",
          "data": {
            "image/png": "[encoded data removed]",
            "text/plain": [
              "<Figure size 2160x576 with 1 Axes>"
            ]
          },
          "metadata": {
            "tags": [],
            "needs_background": "light"
          }
        }
      ]
    },
    {
      "cell_type": "code",
      "metadata": {
        "colab": {
          "base_uri": "https://localhost:8080/",
          "height": 669
        },
        "id": "LrThkfICYxnX",
        "outputId": "49360493-81da-41f1-eec5-c34c600ced9d"
      },
      "source": [
        "dfCreatifity = pd.merge(dfAttack, dfDeff, how = 'inner', on = 'Team')\r\n",
        "dfCreatifity = dfCreatifity[['Team', 'Overall Attack', 'Overall Defence']]\r\n",
        "dfCreatifity['general_league_position'] = dataset['general_league_position']\r\n",
        "dfCreatifity"
      ],
      "execution_count": 357,
      "outputs": [
        {
          "output_type": "execute_result",
          "data": {
            "text/html": [
              "<div>\n",
              "<style scoped>\n",
              "    .dataframe tbody tr th:only-of-type {\n",
              "        vertical-align: middle;\n",
              "    }\n",
              "\n",
              "    .dataframe tbody tr th {\n",
              "        vertical-align: top;\n",
              "    }\n",
              "\n",
              "    .dataframe thead th {\n",
              "        text-align: right;\n",
              "    }\n",
              "</style>\n",
              "<table border=\"1\" class=\"dataframe\">\n",
              "  <thead>\n",
              "    <tr style=\"text-align: right;\">\n",
              "      <th></th>\n",
              "      <th>Team</th>\n",
              "      <th>Overall Attack</th>\n",
              "      <th>Overall Defence</th>\n",
              "      <th>general_league_position</th>\n",
              "    </tr>\n",
              "  </thead>\n",
              "  <tbody>\n",
              "    <tr>\n",
              "      <th>0</th>\n",
              "      <td>Manchester City</td>\n",
              "      <td>0.884636</td>\n",
              "      <td>0.605550</td>\n",
              "      <td>1</td>\n",
              "    </tr>\n",
              "    <tr>\n",
              "      <th>1</th>\n",
              "      <td>Liverpool</td>\n",
              "      <td>0.955424</td>\n",
              "      <td>1.000000</td>\n",
              "      <td>2</td>\n",
              "    </tr>\n",
              "    <tr>\n",
              "      <th>2</th>\n",
              "      <td>Chelsea</td>\n",
              "      <td>0.533589</td>\n",
              "      <td>0.252224</td>\n",
              "      <td>3</td>\n",
              "    </tr>\n",
              "    <tr>\n",
              "      <th>3</th>\n",
              "      <td>Tottenham</td>\n",
              "      <td>0.681451</td>\n",
              "      <td>0.665511</td>\n",
              "      <td>4</td>\n",
              "    </tr>\n",
              "    <tr>\n",
              "      <th>4</th>\n",
              "      <td>Arsenal</td>\n",
              "      <td>0.887809</td>\n",
              "      <td>0.401242</td>\n",
              "      <td>5</td>\n",
              "    </tr>\n",
              "    <tr>\n",
              "      <th>5</th>\n",
              "      <td>Manchester United</td>\n",
              "      <td>0.615059</td>\n",
              "      <td>0.345476</td>\n",
              "      <td>6</td>\n",
              "    </tr>\n",
              "    <tr>\n",
              "      <th>6</th>\n",
              "      <td>Wolverhampton</td>\n",
              "      <td>0.459000</td>\n",
              "      <td>0.539988</td>\n",
              "      <td>7</td>\n",
              "    </tr>\n",
              "    <tr>\n",
              "      <th>7</th>\n",
              "      <td>Everton</td>\n",
              "      <td>0.541495</td>\n",
              "      <td>0.269304</td>\n",
              "      <td>8</td>\n",
              "    </tr>\n",
              "    <tr>\n",
              "      <th>8</th>\n",
              "      <td>Leicester</td>\n",
              "      <td>0.444024</td>\n",
              "      <td>0.296872</td>\n",
              "      <td>9</td>\n",
              "    </tr>\n",
              "    <tr>\n",
              "      <th>9</th>\n",
              "      <td>West Ham</td>\n",
              "      <td>0.565310</td>\n",
              "      <td>0.470687</td>\n",
              "      <td>10</td>\n",
              "    </tr>\n",
              "    <tr>\n",
              "      <th>10</th>\n",
              "      <td>Watford</td>\n",
              "      <td>0.595003</td>\n",
              "      <td>0.293398</td>\n",
              "      <td>11</td>\n",
              "    </tr>\n",
              "    <tr>\n",
              "      <th>11</th>\n",
              "      <td>Crystal Palace</td>\n",
              "      <td>0.552388</td>\n",
              "      <td>0.428769</td>\n",
              "      <td>12</td>\n",
              "    </tr>\n",
              "    <tr>\n",
              "      <th>12</th>\n",
              "      <td>Newcastle</td>\n",
              "      <td>0.423410</td>\n",
              "      <td>0.518060</td>\n",
              "      <td>13</td>\n",
              "    </tr>\n",
              "    <tr>\n",
              "      <th>13</th>\n",
              "      <td>Bournemouth</td>\n",
              "      <td>0.641934</td>\n",
              "      <td>0.192361</td>\n",
              "      <td>14</td>\n",
              "    </tr>\n",
              "    <tr>\n",
              "      <th>14</th>\n",
              "      <td>Burnley</td>\n",
              "      <td>0.628704</td>\n",
              "      <td>0.495754</td>\n",
              "      <td>15</td>\n",
              "    </tr>\n",
              "    <tr>\n",
              "      <th>15</th>\n",
              "      <td>Southampton</td>\n",
              "      <td>0.415611</td>\n",
              "      <td>0.287242</td>\n",
              "      <td>16</td>\n",
              "    </tr>\n",
              "    <tr>\n",
              "      <th>16</th>\n",
              "      <td>Brighton</td>\n",
              "      <td>0.373851</td>\n",
              "      <td>0.373074</td>\n",
              "      <td>17</td>\n",
              "    </tr>\n",
              "    <tr>\n",
              "      <th>17</th>\n",
              "      <td>Cardiff</td>\n",
              "      <td>0.325230</td>\n",
              "      <td>0.259153</td>\n",
              "      <td>18</td>\n",
              "    </tr>\n",
              "    <tr>\n",
              "      <th>18</th>\n",
              "      <td>Fulham</td>\n",
              "      <td>0.193200</td>\n",
              "      <td>0.120347</td>\n",
              "      <td>19</td>\n",
              "    </tr>\n",
              "    <tr>\n",
              "      <th>19</th>\n",
              "      <td>Huddersfield</td>\n",
              "      <td>0.000000</td>\n",
              "      <td>0.000000</td>\n",
              "      <td>20</td>\n",
              "    </tr>\n",
              "  </tbody>\n",
              "</table>\n",
              "</div>"
            ],
            "text/plain": [
              "                 Team  Overall Attack  Overall Defence  general_league_position\n",
              "0     Manchester City        0.884636         0.605550                        1\n",
              "1           Liverpool        0.955424         1.000000                        2\n",
              "2             Chelsea        0.533589         0.252224                        3\n",
              "3           Tottenham        0.681451         0.665511                        4\n",
              "4             Arsenal        0.887809         0.401242                        5\n",
              "5   Manchester United        0.615059         0.345476                        6\n",
              "6       Wolverhampton        0.459000         0.539988                        7\n",
              "7             Everton        0.541495         0.269304                        8\n",
              "8           Leicester        0.444024         0.296872                        9\n",
              "9            West Ham        0.565310         0.470687                       10\n",
              "10            Watford        0.595003         0.293398                       11\n",
              "11     Crystal Palace        0.552388         0.428769                       12\n",
              "12          Newcastle        0.423410         0.518060                       13\n",
              "13        Bournemouth        0.641934         0.192361                       14\n",
              "14            Burnley        0.628704         0.495754                       15\n",
              "15        Southampton        0.415611         0.287242                       16\n",
              "16           Brighton        0.373851         0.373074                       17\n",
              "17            Cardiff        0.325230         0.259153                       18\n",
              "18             Fulham        0.193200         0.120347                       19\n",
              "19       Huddersfield        0.000000         0.000000                       20"
            ]
          },
          "metadata": {
            "tags": []
          },
          "execution_count": 357
        }
      ]
    },
    {
      "cell_type": "code",
      "metadata": {
        "colab": {
          "base_uri": "https://localhost:8080/",
          "height": 142
        },
        "id": "Av1fnYS6aQfr",
        "outputId": "9d2fd627-dae3-4f34-84d0-06ab3410f64f"
      },
      "source": [
        "dfCreatifity.corr()"
      ],
      "execution_count": 360,
      "outputs": [
        {
          "output_type": "execute_result",
          "data": {
            "text/html": [
              "<div>\n",
              "<style scoped>\n",
              "    .dataframe tbody tr th:only-of-type {\n",
              "        vertical-align: middle;\n",
              "    }\n",
              "\n",
              "    .dataframe tbody tr th {\n",
              "        vertical-align: top;\n",
              "    }\n",
              "\n",
              "    .dataframe thead th {\n",
              "        text-align: right;\n",
              "    }\n",
              "</style>\n",
              "<table border=\"1\" class=\"dataframe\">\n",
              "  <thead>\n",
              "    <tr style=\"text-align: right;\">\n",
              "      <th></th>\n",
              "      <th>Overall Attack</th>\n",
              "      <th>Overall Defence</th>\n",
              "      <th>general_league_position</th>\n",
              "    </tr>\n",
              "  </thead>\n",
              "  <tbody>\n",
              "    <tr>\n",
              "      <th>Overall Attack</th>\n",
              "      <td>1.000000</td>\n",
              "      <td>0.725470</td>\n",
              "      <td>-0.797261</td>\n",
              "    </tr>\n",
              "    <tr>\n",
              "      <th>Overall Defence</th>\n",
              "      <td>0.725470</td>\n",
              "      <td>1.000000</td>\n",
              "      <td>-0.634877</td>\n",
              "    </tr>\n",
              "    <tr>\n",
              "      <th>general_league_position</th>\n",
              "      <td>-0.797261</td>\n",
              "      <td>-0.634877</td>\n",
              "      <td>1.000000</td>\n",
              "    </tr>\n",
              "  </tbody>\n",
              "</table>\n",
              "</div>"
            ],
            "text/plain": [
              "                         Overall Attack  ...  general_league_position\n",
              "Overall Attack                 1.000000  ...                -0.797261\n",
              "Overall Defence                0.725470  ...                -0.634877\n",
              "general_league_position       -0.797261  ...                 1.000000\n",
              "\n",
              "[3 rows x 3 columns]"
            ]
          },
          "metadata": {
            "tags": []
          },
          "execution_count": 360
        }
      ]
    },
    {
      "cell_type": "code",
      "metadata": {
        "colab": {
          "base_uri": "https://localhost:8080/",
          "height": 381
        },
        "id": "Kr1BKKWbaCFb",
        "outputId": "022ac61c-0378-4461-f173-28839ab9ecbb"
      },
      "source": [
        "sns.heatmap(dfCreatifity.corr());"
      ],
      "execution_count": 359,
      "outputs": [
        {
          "output_type": "display_data",
          "data": {
            "image/png": "[encoded data removed]",
            "text/plain": [
              "<Figure size 432x288 with 2 Axes>"
            ]
          },
          "metadata": {
            "tags": [],
            "needs_background": "light"
          }
        }
      ]
    }
  ]
}